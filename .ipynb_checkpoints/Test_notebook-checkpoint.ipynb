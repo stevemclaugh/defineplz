{
 "cells": [
  {
   "cell_type": "code",
   "execution_count": 5,
   "metadata": {
    "collapsed": true
   },
   "outputs": [],
   "source": [
    "import string\n",
    "from textblob import TextBlob\n",
    "\n",
    "def strip_punctuation_lowercase(p_word):\n",
    "    # Clear leading/trailing whitespace and punctuation, and make lowercase\n",
    "    return p_word.strip().strip(string.punctuation).lower()\n",
    "\n",
    "def noun_phrase_extract(p_text):\n",
    "    from textblob import TextBlob\n",
    "    blob = TextBlob(p_text)\n",
    "    return blob.noun_phrases\n",
    "\n",
    "def get_noun_phrases_with_word(p_text, p_word):\n",
    "    from textblob import TextBlob    \n",
    "    blob = TextBlob(p_text)\n",
    "    spl_word = strip_punctuation_lowercase(p_word)\n",
    "    np_list = []\n",
    "    for np in blob.noun_phrases:\n",
    "        if spl_word in strip_punctuation_lowercase(np):\n",
    "            np_list.append(np)\n",
    "    return np_list \n"
   ]
  },
  {
   "cell_type": "code",
   "execution_count": null,
   "metadata": {
    "collapsed": true
   },
   "outputs": [],
   "source": []
  },
  {
   "cell_type": "code",
   "execution_count": null,
   "metadata": {
    "collapsed": true
   },
   "outputs": [],
   "source": []
  },
  {
   "cell_type": "code",
   "execution_count": null,
   "metadata": {
    "collapsed": true
   },
   "outputs": [],
   "source": [
    "from twython import Twython, TwythonError\n",
    "\n",
    "# Requires Authentication as of Twitter API v1.1\n",
    "twitter = Twython(APP_KEY, APP_SECRET, OAUTH_TOKEN, OAUTH_TOKEN_SECRET)\n",
    "try:\n",
    "    search_results = twitter.search(q='WebsDotCom', count=50)\n",
    "except TwythonError as e:\n",
    "    print e\n",
    "\n",
    "for tweet in search_results['statuses']:\n",
    "    print 'Tweet from @%s Date: %s' % (tweet['user']['screen_nam\\\n",
    "                                       e'].encode('utf-8'),\n",
    "                                       tweet['created_at'])\n",
    "print tweet['text'].encode('utf-8'), '\\n'"
   ]
  },
  {
   "cell_type": "code",
   "execution_count": null,
   "metadata": {
    "collapsed": true
   },
   "outputs": [],
   "source": []
  },
  {
   "cell_type": "code",
   "execution_count": null,
   "metadata": {
    "collapsed": true
   },
   "outputs": [],
   "source": []
  },
  {
   "cell_type": "code",
   "execution_count": null,
   "metadata": {
    "collapsed": true
   },
   "outputs": [],
   "source": []
  }
 ],
 "metadata": {
  "kernelspec": {
   "display_name": "Python 3",
   "language": "python",
   "name": "python3"
  },
  "language_info": {
   "codemirror_mode": {
    "name": "ipython",
    "version": 2
   },
   "file_extension": ".py",
   "mimetype": "text/x-python",
   "name": "python",
   "nbconvert_exporter": "python",
   "pygments_lexer": "ipython2",
   "version": "2.7.13"
  }
 },
 "nbformat": 4,
 "nbformat_minor": 2
}
