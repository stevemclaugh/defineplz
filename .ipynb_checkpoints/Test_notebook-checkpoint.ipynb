{
 "cells": [
  {
   "cell_type": "code",
   "execution_count": 20,
   "metadata": {
    "collapsed": true
   },
   "outputs": [],
   "source": [
    "from twython import Twython\n",
    "import time\n",
    "import random\n",
    "import string\n",
    "from textblob import TextBlob\n",
    "import os\n",
    "os.chdir('/Users/mclaugh/Documents/GitHub/defineplz/')\n",
    "\n",
    "\n",
    "def strip_punctuation_lowercase(p_word):\n",
    "    # Clear leading/trailing whitespace and punctuation, and make lowercase\n",
    "    return p_word.strip().strip(string.punctuation).lower()\n",
    "\n",
    "def noun_phrase_extract(p_text):\n",
    "    from textblob import TextBlob\n",
    "    blob = TextBlob(p_text)\n",
    "    return blob.noun_phrases\n",
    "\n",
    "def get_noun_phrases_with_word(p_text, p_word):\n",
    "    from textblob import TextBlob\n",
    "    blob = TextBlob(p_text)\n",
    "    spl_word = strip_punctuation_lowercase(p_word)\n",
    "\n",
    "    np_list = []\n",
    "    for np in blob.noun_phrases:\n",
    "        if spl_word in strip_punctuation_lowercase(np):\n",
    "            np_list.append(np)\n",
    "\n",
    "    return np_list\n",
    "\n",
    "def get_frenchenglish_triggerwords():\n",
    "    fe_trigger_words = []\n",
    "    with open(\"trigger_words.txt\", \"rU\") as trigger_file:\n",
    "        lines = trigger_file.readlines()\n",
    "        for line in lines:\n",
    "            words = line.split()\n",
    "            for word in words:\n",
    "                spl_word = strip_punctuation_lowercase(word)\n",
    "                fe_trigger_words.append(spl_word)\n",
    "    return fe_trigger_words\n",
    "\n",
    "\n",
    "def find_keywords_in_tweets(p_tweets, p_trigger_words):\n",
    "    found_tweets = []\n",
    "    for t in p_tweets:\n",
    "        spl_t = strip_punctuation_lowercase(t)\n",
    "        t_words = spl_t.split()\n",
    "        for word in t_words:\n",
    "            if word in p_trigger_words:\n",
    "                found_tweets.append(t)\n",
    "    return found_tweets\n",
    "\n",
    "\n",
    "tweet_stems = open('stem_list.txt').read().splitlines()\n",
    "trigger_words = get_frenchenglish_triggerwords()\n",
    "used_trigger_words = open('used_trigger_words.txt').read().splitlines()\n"
   ]
  },
  {
   "cell_type": "code",
   "execution_count": 21,
   "metadata": {},
   "outputs": [
    {
     "name": "stderr",
     "output_type": "stream",
     "text": [
      "/usr/local/lib/python2.7/site-packages/ipykernel_launcher.py:10: UnicodeWarning: Unicode equal comparison failed to convert both arguments to Unicode - interpreting them as being unequal\n",
      "  # Remove the CWD from sys.path while we load stuff.\n"
     ]
    },
    {
     "ename": "UnicodeDecodeError",
     "evalue": "'ascii' codec can't decode byte 0xe2 in position 24: ordinal not in range(128)",
     "output_type": "error",
     "traceback": [
      "\u001b[0;31m---------------------------------------------------------------------------\u001b[0m",
      "\u001b[0;31mUnicodeDecodeError\u001b[0m                        Traceback (most recent call last)",
      "\u001b[0;32m<ipython-input-21-dbdd1094b1da>\u001b[0m in \u001b[0;36m<module>\u001b[0;34m()\u001b[0m\n\u001b[1;32m     11\u001b[0m \u001b[0;34m\u001b[0m\u001b[0m\n\u001b[1;32m     12\u001b[0m                                 \u001b[0mstem\u001b[0m \u001b[0;34m=\u001b[0m \u001b[0mrandom\u001b[0m\u001b[0;34m.\u001b[0m\u001b[0mchoice\u001b[0m\u001b[0;34m(\u001b[0m\u001b[0mtweet_stems\u001b[0m\u001b[0;34m)\u001b[0m\u001b[0;34m\u001b[0m\u001b[0m\n\u001b[0;32m---> 13\u001b[0;31m                                 \u001b[0mstem\u001b[0m\u001b[0;34m.\u001b[0m\u001b[0mreplace\u001b[0m\u001b[0;34m(\u001b[0m\u001b[0;34m'^^^^^'\u001b[0m\u001b[0;34m,\u001b[0m \u001b[0mword\u001b[0m\u001b[0;34m)\u001b[0m\u001b[0;34m\u001b[0m\u001b[0m\n\u001b[0m\u001b[1;32m     14\u001b[0m                                 \u001b[0;32mprint\u001b[0m\u001b[0;34m(\u001b[0m\u001b[0mnew_status_text\u001b[0m\u001b[0;34m)\u001b[0m\u001b[0;34m\u001b[0m\u001b[0m\n\u001b[1;32m     15\u001b[0m                                 \u001b[0;31m#twitter.update_status(status='See how easy using Twython is!')\u001b[0m\u001b[0;34m\u001b[0m\u001b[0;34m\u001b[0m\u001b[0m\n",
      "\u001b[0;31mUnicodeDecodeError\u001b[0m: 'ascii' codec can't decode byte 0xe2 in position 24: ordinal not in range(128)"
     ]
    }
   ],
   "source": [
    "\n",
    "statuses = [{\"text\":'This bagel is fabulous.'}]\n",
    "\n",
    "\n",
    "for status in statuses:\n",
    "\t\ttweet_text = status['text']\n",
    "\n",
    "\t\tblob = TextBlob(tweet_text)\n",
    "\t\tfor word in blob.words:\n",
    "\t\t\tif (word in trigger_words) & (word not in used_trigger_words):\n",
    "\n",
    "\t\t\t\tstem = random.choice(tweet_stems)\n",
    "\t\t\t\tstem.replace('^^^^^', word)\n",
    "\t\t\t\tprint(new_status_text)\n",
    "\t\t\t\t#twitter.update_status(status='See how easy using Twython is!')\n",
    "\n",
    "\t\t\t\twith open('used_trigger_words.txt', 'a') as fo:\n",
    "\t\t\t\t\tfo.write(trigger_word)\n",
    "\t\t\t\t\tfo.write('\\n')\n",
    "\n",
    "\t#time.sleep(700+(random.random()*600))\n",
    "\n",
    "\n",
    "\n",
    "\n",
    "\n"
   ]
  },
  {
   "cell_type": "code",
   "execution_count": null,
   "metadata": {
    "collapsed": true
   },
   "outputs": [],
   "source": []
  },
  {
   "cell_type": "code",
   "execution_count": null,
   "metadata": {
    "collapsed": true
   },
   "outputs": [],
   "source": []
  },
  {
   "cell_type": "code",
   "execution_count": null,
   "metadata": {
    "collapsed": true
   },
   "outputs": [],
   "source": []
  },
  {
   "cell_type": "code",
   "execution_count": null,
   "metadata": {
    "collapsed": true
   },
   "outputs": [],
   "source": []
  },
  {
   "cell_type": "code",
   "execution_count": null,
   "metadata": {
    "collapsed": true
   },
   "outputs": [],
   "source": []
  },
  {
   "cell_type": "code",
   "execution_count": null,
   "metadata": {},
   "outputs": [],
   "source": []
  },
  {
   "cell_type": "code",
   "execution_count": null,
   "metadata": {
    "collapsed": true
   },
   "outputs": [],
   "source": []
  },
  {
   "cell_type": "code",
   "execution_count": null,
   "metadata": {
    "collapsed": true
   },
   "outputs": [],
   "source": []
  },
  {
   "cell_type": "code",
   "execution_count": null,
   "metadata": {},
   "outputs": [],
   "source": []
  },
  {
   "cell_type": "code",
   "execution_count": null,
   "metadata": {
    "collapsed": true
   },
   "outputs": [],
   "source": []
  },
  {
   "cell_type": "code",
   "execution_count": null,
   "metadata": {
    "collapsed": true
   },
   "outputs": [],
   "source": []
  }
 ],
 "metadata": {
  "kernelspec": {
   "display_name": "Python 3",
   "language": "python",
   "name": "python3"
  },
  "language_info": {
   "codemirror_mode": {
    "name": "ipython",
    "version": 2
   },
   "file_extension": ".py",
   "mimetype": "text/x-python",
   "name": "python",
   "nbconvert_exporter": "python",
   "pygments_lexer": "ipython2",
   "version": "2.7.13"
  }
 },
 "nbformat": 4,
 "nbformat_minor": 2
}
